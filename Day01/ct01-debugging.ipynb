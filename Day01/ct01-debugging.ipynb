{
 "cells": [
  {
   "attachments": {},
   "cell_type": "markdown",
   "metadata": {},
   "source": [
    "# 코딩테스트중 실수 네가지\n",
    "\n",
    "- 결함있는 코드\n"
   ]
  },
  {
   "cell_type": "code",
   "execution_count": 20,
   "metadata": {},
   "outputs": [
    {
     "ename": "ValueError",
     "evalue": "invalid literal for int() with base 10: ''",
     "output_type": "error",
     "traceback": [
      "\u001b[1;31m---------------------------------------------------------------------------\u001b[0m",
      "\u001b[1;31mValueError\u001b[0m                                Traceback (most recent call last)",
      "Cell \u001b[1;32mIn[20], line 4\u001b[0m\n\u001b[0;32m      1\u001b[0m \u001b[39m# 배열에 주어진 범위의 합을 2로 나눈 값을 구하세요\u001b[39;00m\n\u001b[0;32m      2\u001b[0m \u001b[39mimport\u001b[39;00m \u001b[39mrandom\u001b[39;00m\n\u001b[1;32m----> 4\u001b[0m testcase \u001b[39m=\u001b[39m \u001b[39mint\u001b[39;49m(\u001b[39minput\u001b[39;49m())  \u001b[39m# 횟수\u001b[39;00m\n\u001b[0;32m      5\u001b[0m max_num \u001b[39m=\u001b[39m \u001b[39m100001\u001b[39m\n\u001b[0;32m      6\u001b[0m answer \u001b[39m=\u001b[39m \u001b[39m0\u001b[39m\n",
      "\u001b[1;31mValueError\u001b[0m: invalid literal for int() with base 10: ''"
     ]
    }
   ],
   "source": [
    "# 배열에 주어진 범위의 합을 2로 나눈 값을 구하세요\n",
    "import random\n",
    "\n",
    "testcase = int(input())  # 횟수\n",
    "max_num = 100001\n",
    "answer = 0\n",
    "A = [0] * max_num  # 10만개의 리스트\n",
    "\n",
    "for i in range(0, max_num):  # 2. 10001은 0의 개수를 잘못 넣은 것이었음\n",
    "    A[i] = random.randrange(1, 101)\n",
    "\n",
    "for t in range(1, testcase+1):\n",
    "    answer = 0  # 1.  초기화 문제 해결\n",
    "    start, end = map(int, input().split())\n",
    "\n",
    "    for i in range(start, end + 1):\n",
    "        answer = answer + A[i]\n",
    "\n",
    "    # 4. 결과값이 정수로 나오려면 연산자를 / 대신 //로 바꿔야함.\n",
    "    print(f'{t} = {answer//2}')   # 3. testcase -> t로 바꿔야함\n",
    "\n",
    "\n",
    "\n"
   ]
  },
  {
   "attachments": {},
   "cell_type": "markdown",
   "metadata": {},
   "source": [
    "## 예외 1\n",
    "\n",
    "answer 초기화를 안함\n",
    "\n",
    "## 예외2\n",
    "\n",
    "배열의 범위를 잘못입력\n",
    "\n",
    "## 예외3\n",
    "\n",
    "변수를 잘못사용\n",
    "\n",
    "## 예외4\n",
    "\n",
    "형변환 때문에 실수(float)로 나온것 (나누기 연산자)\n"
   ]
  }
 ],
 "metadata": {
  "kernelspec": {
   "display_name": "Python 3",
   "language": "python",
   "name": "python3"
  },
  "language_info": {
   "codemirror_mode": {
    "name": "ipython",
    "version": 3
   },
   "file_extension": ".py",
   "mimetype": "text/x-python",
   "name": "python",
   "nbconvert_exporter": "python",
   "pygments_lexer": "ipython3",
   "version": "3.11.1"
  },
  "orig_nbformat": 4,
  "vscode": {
   "interpreter": {
    "hash": "a3d8f53f1429d27b792a3789224562ddd32c1395c9a9cfbb17b3c19c3b9a493d"
   }
  }
 },
 "nbformat": 4,
 "nbformat_minor": 2
}
