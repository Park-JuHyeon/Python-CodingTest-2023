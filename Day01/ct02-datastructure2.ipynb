{
 "cells": [
  {
   "attachments": {},
   "cell_type": "markdown",
   "metadata": {},
   "source": [
    "# 배열과 리스트\n",
    "\n",
    "### 숫자의 합 - 백준 11720"
   ]
  },
  {
   "cell_type": "code",
   "execution_count": 3,
   "metadata": {},
   "outputs": [
    {
     "ename": "ValueError",
     "evalue": "invalid literal for int() with base 10: '5 3'",
     "output_type": "error",
     "traceback": [
      "\u001b[1;31m---------------------------------------------------------------------------\u001b[0m",
      "\u001b[1;31mValueError\u001b[0m                                Traceback (most recent call last)",
      "Cell \u001b[1;32mIn[3], line 1\u001b[0m\n\u001b[1;32m----> 1\u001b[0m n \u001b[39m=\u001b[39m \u001b[39mint\u001b[39;49m(\u001b[39minput\u001b[39;49m())  \u001b[39m# input안에 문자열을 넣으면 틀린걸로 간주함~!\u001b[39;00m\n\u001b[0;32m      3\u001b[0m numbers \u001b[39m=\u001b[39m \u001b[39mlist\u001b[39m(\u001b[39minput\u001b[39m())\n\u001b[0;32m      4\u001b[0m \u001b[39msum\u001b[39m \u001b[39m=\u001b[39m \u001b[39m0\u001b[39m\n",
      "\u001b[1;31mValueError\u001b[0m: invalid literal for int() with base 10: '5 3'"
     ]
    }
   ],
   "source": [
    "n = int(input())  # input안에 문자열을 넣으면 틀린걸로 간주함~!\n",
    "\n",
    "numbers = list(input())\n",
    "sum = 0\n",
    "\n",
    "for i in numbers:\n",
    "    sum += int(i)\n",
    "\n",
    "print(sum)\n"
   ]
  },
  {
   "cell_type": "code",
   "execution_count": null,
   "metadata": {},
   "outputs": [
    {
     "name": "stdout",
     "output_type": "stream",
     "text": [
      "10\n"
     ]
    }
   ],
   "source": [
    "# 위와 약간 다르게 정답\n",
    "\n",
    "n = int(input())  \n",
    "\n",
    "numbers = list(map(int, input()))\n",
    "sum = 0\n",
    "\n",
    "for i in range(n):\n",
    "    sum += numbers[i]\n",
    "\n",
    "print(sum)"
   ]
  },
  {
   "attachments": {},
   "cell_type": "markdown",
   "metadata": {},
   "source": [
    "### 평균 구하기\n",
    "\n",
    "식 : 점수들을 모두 합한 값 X 100 / 맥스 점수값 / 과목수\n",
    "\n",
    "백준 온라인 1546번"
   ]
  },
  {
   "cell_type": "code",
   "execution_count": null,
   "metadata": {},
   "outputs": [
    {
     "name": "stdout",
     "output_type": "stream",
     "text": [
      "66.66666666666667\n"
     ]
    }
   ],
   "source": [
    "n = int(input())   # 과목수\n",
    "\n",
    "mytest = list(map(int, input().split()))  # 점수 다 받기\n",
    "\n",
    "mymax = max(mytest)   # 최대점수 찾기\n",
    "\n",
    "mysum = 0\n",
    "\n",
    "for i in mytest:\n",
    "    mysum += i\n",
    "\n",
    "print(mysum * 100 / mymax / n)   # 평균 구하기\n",
    "\n",
    "\n"
   ]
  },
  {
   "attachments": {},
   "cell_type": "markdown",
   "metadata": {},
   "source": [
    "### 구간 합 구하기 4\n",
    "\n",
    "백준 온라인 11659번"
   ]
  },
  {
   "cell_type": "code",
   "execution_count": 5,
   "metadata": {},
   "outputs": [
    {
     "name": "stdout",
     "output_type": "stream",
     "text": [
      "12\n",
      "9\n",
      "1\n"
     ]
    }
   ],
   "source": [
    "\n",
    "N, M = tuple(map(int, input().split()))   # N = 데이터의 개수 , M = 계산할 개수\n",
    "numbers = list(map(int, input().split()))  # 숫자 리스트 [1 2 3 4 5] 같은\n",
    "sums = [0]   # 배열 0번째 인덱스 값\n",
    "temp = 0\n",
    "\n",
    "for i in numbers:\n",
    "    temp = temp + i  # temp 5 9 12 14 15 순서로\n",
    "    sums.append(temp)\n",
    "    # [0, 5, 9, 12, 14, 15]\n",
    "\n",
    "for i in range(M):\n",
    "    x, y = tuple(map(int, input().split()))\n",
    "    print(sums[y] - sums[x - 1])\n",
    "    \n"
   ]
  },
  {
   "attachments": {},
   "cell_type": "markdown",
   "metadata": {},
   "source": [
    "### 구간 합 구하기 2\n",
    "\n",
    "백준 온라인 저지 11660"
   ]
  },
  {
   "cell_type": "code",
   "execution_count": null,
   "metadata": {},
   "outputs": [],
   "source": []
  }
 ],
 "metadata": {
  "kernelspec": {
   "display_name": "Python 3",
   "language": "python",
   "name": "python3"
  },
  "language_info": {
   "codemirror_mode": {
    "name": "ipython",
    "version": 3
   },
   "file_extension": ".py",
   "mimetype": "text/x-python",
   "name": "python",
   "nbconvert_exporter": "python",
   "pygments_lexer": "ipython3",
   "version": "3.11.1"
  },
  "orig_nbformat": 4,
  "vscode": {
   "interpreter": {
    "hash": "a3d8f53f1429d27b792a3789224562ddd32c1395c9a9cfbb17b3c19c3b9a493d"
   }
  }
 },
 "nbformat": 4,
 "nbformat_minor": 2
}
