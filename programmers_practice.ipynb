{
 "cells": [
  {
   "attachments": {},
   "cell_type": "markdown",
   "metadata": {},
   "source": [
    "### 프로그래머스 Lv 0 => 연속된 수의 합"
   ]
  },
  {
   "cell_type": "code",
   "execution_count": 15,
   "metadata": {},
   "outputs": [
    {
     "data": {
      "text/plain": [
       "[3, 4, 5]"
      ]
     },
     "execution_count": 15,
     "metadata": {},
     "output_type": "execute_result"
    }
   ],
   "source": [
    "num , total = map(int, input().split())\n",
    "\n",
    "def solution(num, total):\n",
    "    answer = []\n",
    "    var = sum(range(num + 1))\n",
    "    diff = total - var\n",
    "    \n",
    "    start_num = diff // num\n",
    "    answer = [i + 1 + start_num for i in range(num)]\n",
    "\n",
    "    return answer\n",
    "    \n",
    "solution(num, total)\n"
   ]
  },
  {
   "attachments": {},
   "cell_type": "markdown",
   "metadata": {},
   "source": [
    "### 프로그래머스 Lv 0 => 문자열 정렬하기"
   ]
  },
  {
   "cell_type": "code",
   "execution_count": 35,
   "metadata": {},
   "outputs": [
    {
     "data": {
      "text/plain": [
       "'aaaddeffs'"
      ]
     },
     "execution_count": 35,
     "metadata": {},
     "output_type": "execute_result"
    }
   ],
   "source": [
    "my_string = str(input())\n",
    "\n",
    "def solution(my_string):\n",
    "    answer = ''\n",
    "    new_list = sorted(my_string.lower())\n",
    "\n",
    "    for i in range(0, len(my_string)):\n",
    "        answer += new_list[i]\n",
    "    \n",
    "    return answer\n",
    "\n",
    "solution(my_string)"
   ]
  },
  {
   "attachments": {},
   "cell_type": "markdown",
   "metadata": {},
   "source": [
    "### 프로그래머스 Lv 0 -> 7의 개수"
   ]
  },
  {
   "cell_type": "code",
   "execution_count": 86,
   "metadata": {},
   "outputs": [
    {
     "data": {
      "text/plain": [
       "2"
      ]
     },
     "execution_count": 86,
     "metadata": {},
     "output_type": "execute_result"
    }
   ],
   "source": [
    "array = list(map(int,input().split()))\n",
    "\n",
    "def solution(array):\n",
    "    answer = 0\n",
    "    \n",
    "    for i in array:\n",
    "        for j in str(i):\n",
    "            if int(j) / 7 == 1:\n",
    "                answer += 1\n",
    "\n",
    "    return answer\n",
    "solution(array)"
   ]
  },
  {
   "attachments": {},
   "cell_type": "markdown",
   "metadata": {},
   "source": [
    "### 프로그래머스 Lv0 -> 잘라서 배열로 저장하기"
   ]
  },
  {
   "cell_type": "code",
   "execution_count": 96,
   "metadata": {},
   "outputs": [
    {
     "data": {
      "text/plain": [
       "2"
      ]
     },
     "execution_count": 96,
     "metadata": {},
     "output_type": "execute_result"
    }
   ],
   "source": [
    "my_str = str(input())\n",
    "n = int(input())\n",
    "\n",
    "def solution(my_str, n):\n",
    "    answer = []\n",
    "    cnt = int(len(my_str) / n)\n",
    "    answer = cnt\n",
    "    return answer\n",
    "solution(my_str, n)"
   ]
  }
 ],
 "metadata": {
  "kernelspec": {
   "display_name": "Python 3",
   "language": "python",
   "name": "python3"
  },
  "language_info": {
   "codemirror_mode": {
    "name": "ipython",
    "version": 3
   },
   "file_extension": ".py",
   "mimetype": "text/x-python",
   "name": "python",
   "nbconvert_exporter": "python",
   "pygments_lexer": "ipython3",
   "version": "3.11.1"
  },
  "orig_nbformat": 4,
  "vscode": {
   "interpreter": {
    "hash": "a3d8f53f1429d27b792a3789224562ddd32c1395c9a9cfbb17b3c19c3b9a493d"
   }
  }
 },
 "nbformat": 4,
 "nbformat_minor": 2
}
