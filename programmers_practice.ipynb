{
 "cells": [
  {
   "attachments": {},
   "cell_type": "markdown",
   "metadata": {},
   "source": [
    "### 프로그래머스 Lv 0 => 연속된 수의 합"
   ]
  },
  {
   "cell_type": "code",
   "execution_count": 1,
   "metadata": {},
   "outputs": [
    {
     "ename": "ValueError",
     "evalue": "not enough values to unpack (expected 2, got 0)",
     "output_type": "error",
     "traceback": [
      "\u001b[1;31m---------------------------------------------------------------------------\u001b[0m",
      "\u001b[1;31mValueError\u001b[0m                                Traceback (most recent call last)",
      "Cell \u001b[1;32mIn[1], line 1\u001b[0m\n\u001b[1;32m----> 1\u001b[0m num , total \u001b[39m=\u001b[39m \u001b[39mmap\u001b[39m(\u001b[39mint\u001b[39m, \u001b[39minput\u001b[39m()\u001b[39m.\u001b[39msplit())\n\u001b[0;32m      3\u001b[0m \u001b[39mdef\u001b[39;00m \u001b[39msolution\u001b[39m(num, total):\n\u001b[0;32m      4\u001b[0m     answer \u001b[39m=\u001b[39m []\n",
      "\u001b[1;31mValueError\u001b[0m: not enough values to unpack (expected 2, got 0)"
     ]
    }
   ],
   "source": [
    "num , total = map(int, input().split())\n",
    "\n",
    "def solution(num, total):\n",
    "    answer = []\n",
    "    var = sum(range(num + 1))\n",
    "    diff = total - var\n",
    "    \n",
    "    start_num = diff // num\n",
    "    answer = [i + 1 + start_num for i in range(num)]\n",
    "\n",
    "    return answer\n",
    "    \n",
    "solution(num, total)\n"
   ]
  },
  {
   "attachments": {},
   "cell_type": "markdown",
   "metadata": {},
   "source": [
    "### 프로그래머스 Lv 0 => 문자열 정렬하기"
   ]
  },
  {
   "cell_type": "code",
   "execution_count": null,
   "metadata": {},
   "outputs": [
    {
     "data": {
      "text/plain": [
       "'aaaddeffs'"
      ]
     },
     "execution_count": 35,
     "metadata": {},
     "output_type": "execute_result"
    }
   ],
   "source": [
    "my_string = str(input())\n",
    "\n",
    "def solution(my_string):\n",
    "    answer = ''\n",
    "    new_list = sorted(my_string.lower())\n",
    "\n",
    "    for i in range(0, len(my_string)):\n",
    "        answer += new_list[i]\n",
    "    \n",
    "    return answer\n",
    "\n",
    "solution(my_string)"
   ]
  },
  {
   "attachments": {},
   "cell_type": "markdown",
   "metadata": {},
   "source": [
    "### 프로그래머스 Lv 0 -> 7의 개수"
   ]
  },
  {
   "cell_type": "code",
   "execution_count": null,
   "metadata": {},
   "outputs": [
    {
     "data": {
      "text/plain": [
       "2"
      ]
     },
     "execution_count": 86,
     "metadata": {},
     "output_type": "execute_result"
    }
   ],
   "source": [
    "array = list(map(int,input().split()))\n",
    "\n",
    "def solution(array):\n",
    "    answer = 0\n",
    "    \n",
    "    for i in array:\n",
    "        for j in str(i):\n",
    "            if int(j) / 7 == 1:\n",
    "                answer += 1\n",
    "\n",
    "    return answer\n",
    "solution(array)"
   ]
  },
  {
   "attachments": {},
   "cell_type": "markdown",
   "metadata": {},
   "source": [
    "### 프로그래머스 Lv0 -> 잘라서 배열로 저장하기"
   ]
  },
  {
   "cell_type": "code",
   "execution_count": null,
   "metadata": {},
   "outputs": [
    {
     "data": {
      "text/plain": [
       "2"
      ]
     },
     "execution_count": 96,
     "metadata": {},
     "output_type": "execute_result"
    }
   ],
   "source": [
    "my_str = str(input())\n",
    "n = int(input())\n",
    "\n",
    "def solution(my_str, n):\n",
    "    answer = []\n",
    "    cnt = int(len(my_str) / n)\n",
    "    answer = cnt\n",
    "    return answer\n",
    "solution(my_str, n)"
   ]
  },
  {
   "attachments": {},
   "cell_type": "markdown",
   "metadata": {},
   "source": [
    "### 프로그래머스 Lv0 => OX 퀴즈"
   ]
  },
  {
   "cell_type": "code",
   "execution_count": 12,
   "metadata": {},
   "outputs": [
    {
     "name": "stdout",
     "output_type": "stream",
     "text": [
      "['3', '-', '4', '=', '-3']\n",
      "['5', '+', '6', '=', '11']\n"
     ]
    },
    {
     "ename": "IndexError",
     "evalue": "list index out of range",
     "output_type": "error",
     "traceback": [
      "\u001b[1;31m---------------------------------------------------------------------------\u001b[0m",
      "\u001b[1;31mIndexError\u001b[0m                                Traceback (most recent call last)",
      "Cell \u001b[1;32mIn[12], line 18\u001b[0m\n\u001b[0;32m     16\u001b[0m     \u001b[39mreturn\u001b[39;00m answer\n\u001b[0;32m     17\u001b[0m quiz \u001b[39m=\u001b[39m [\u001b[39m\"\u001b[39m\u001b[39m3 - 4 = -3\u001b[39m\u001b[39m\"\u001b[39m, \u001b[39m\"\u001b[39m\u001b[39m5 + 6 = 11\u001b[39m\u001b[39m\"\u001b[39m]\n\u001b[1;32m---> 18\u001b[0m solution(quiz)\n",
      "Cell \u001b[1;32mIn[12], line 8\u001b[0m, in \u001b[0;36msolution\u001b[1;34m(quiz)\u001b[0m\n\u001b[0;32m      6\u001b[0m     \u001b[39mbreak\u001b[39;00m\n\u001b[0;32m      7\u001b[0m b \u001b[39m+\u001b[39m\u001b[39m=\u001b[39m \u001b[39m1\u001b[39m\n\u001b[1;32m----> 8\u001b[0m t \u001b[39m=\u001b[39m quiz[b]\u001b[39m.\u001b[39msplit()\n\u001b[0;32m      9\u001b[0m \u001b[39mprint\u001b[39m(t)\n\u001b[0;32m     10\u001b[0m \u001b[39mif\u001b[39;00m t[\u001b[39m1\u001b[39m] \u001b[39m==\u001b[39m \u001b[39m'\u001b[39m\u001b[39m+\u001b[39m\u001b[39m'\u001b[39m:\n",
      "\u001b[1;31mIndexError\u001b[0m: list index out of range"
     ]
    }
   ],
   "source": [
    "\n",
    "def solution(quiz):\n",
    "    answer = []\n",
    "    b = -1\n",
    "    while 1:\n",
    "        if b == len(quiz):\n",
    "            break\n",
    "        b += 1\n",
    "        t = quiz[b].split()\n",
    "        print(t)\n",
    "        if t[1] == '+':\n",
    "            if int(t[0]) + int(t[2]) == int(t[4]):\n",
    "                answer.append('O')\n",
    "        elif t[1] == '-':\n",
    "            if int(t[0]) - int(t[2]) != int(t[4]):\n",
    "                answer.append('X')\n",
    "    return answer\n",
    "quiz = [\"3 - 4 = -3\", \"5 + 6 = 11\"]\n",
    "solution(quiz)\n"
   ]
  },
  {
   "cell_type": "code",
   "execution_count": 3,
   "metadata": {},
   "outputs": [
    {
     "data": {
      "text/plain": [
       "2"
      ]
     },
     "execution_count": 3,
     "metadata": {},
     "output_type": "execute_result"
    }
   ],
   "source": [
    "quiz = [\"3 - 4 = -3\", \"5 + 6 = 11\"]\n",
    "\n",
    "len(quiz)"
   ]
  }
 ],
 "metadata": {
  "kernelspec": {
   "display_name": "Python 3",
   "language": "python",
   "name": "python3"
  },
  "language_info": {
   "codemirror_mode": {
    "name": "ipython",
    "version": 3
   },
   "file_extension": ".py",
   "mimetype": "text/x-python",
   "name": "python",
   "nbconvert_exporter": "python",
   "pygments_lexer": "ipython3",
   "version": "3.11.1"
  },
  "orig_nbformat": 4,
  "vscode": {
   "interpreter": {
    "hash": "a3d8f53f1429d27b792a3789224562ddd32c1395c9a9cfbb17b3c19c3b9a493d"
   }
  }
 },
 "nbformat": 4,
 "nbformat_minor": 2
}
